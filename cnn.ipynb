{
 "cells": [
  {
   "cell_type": "code",
   "execution_count": 1,
   "metadata": {},
   "outputs": [
    {
     "name": "stderr",
     "output_type": "stream",
     "text": [
      "Using TensorFlow backend.\n"
     ]
    }
   ],
   "source": [
    "import pandas as pd\n",
    "import numpy as np\n",
    "import matplotlib.pyplot as plt\n",
    "import feature_engineering as fe\n",
    "\n",
    "import tensorflow as tf\n",
    "import keras\n",
    "from keras.models import Sequential\n",
    "from keras.layers.core import Dense, Activation, Flatten\n",
    "from keras.callbacks import ModelCheckpoint\n",
    "from keras.callbacks import EarlyStopping\n",
    "from keras.models import Sequential\n",
    "from keras.layers.core import Dense, Activation, Flatten\n",
    "from keras.optimizers import Adam\n",
    "from keras.layers import Conv1D, Conv2D, MaxPooling2D\n",
    "from sklearn import metrics\n",
    "from sklearn.model_selection import train_test_split\n",
    "from sklearn.metrics import mean_squared_error, r2_score, accuracy_score\n",
    "from sklearn.preprocessing import MinMaxScaler, StandardScaler\n",
    "import csv\n",
    "import collections\n",
    "from scipy.stats import zscore\n",
    "from datetime import datetime\n",
    "import matplotlib.pyplot as plt\n",
    "\n",
    "%matplotlib inline\n",
    "\n",
    "from numpy.random import seed\n",
    "seed(2020)\n",
    "\n",
    "tf.random.set_seed(2020)"
   ]
  },
  {
   "cell_type": "code",
   "execution_count": 2,
   "metadata": {},
   "outputs": [
    {
     "data": {
      "text/html": [
       "<div>\n",
       "<style scoped>\n",
       "    .dataframe tbody tr th:only-of-type {\n",
       "        vertical-align: middle;\n",
       "    }\n",
       "\n",
       "    .dataframe tbody tr th {\n",
       "        vertical-align: top;\n",
       "    }\n",
       "\n",
       "    .dataframe thead th {\n",
       "        text-align: right;\n",
       "    }\n",
       "</style>\n",
       "<table border=\"1\" class=\"dataframe\">\n",
       "  <thead>\n",
       "    <tr style=\"text-align: right;\">\n",
       "      <th></th>\n",
       "      <th>Open</th>\n",
       "      <th>High</th>\n",
       "      <th>Low</th>\n",
       "      <th>Close</th>\n",
       "      <th>Volume</th>\n",
       "    </tr>\n",
       "  </thead>\n",
       "  <tbody>\n",
       "    <tr>\n",
       "      <th>0</th>\n",
       "      <td>1232.400024</td>\n",
       "      <td>1327.199951</td>\n",
       "      <td>1232.400024</td>\n",
       "      <td>1232.400024</td>\n",
       "      <td>426687</td>\n",
       "    </tr>\n",
       "    <tr>\n",
       "      <th>1</th>\n",
       "      <td>1232.400024</td>\n",
       "      <td>1303.500000</td>\n",
       "      <td>1232.400024</td>\n",
       "      <td>1303.500000</td>\n",
       "      <td>159810</td>\n",
       "    </tr>\n",
       "    <tr>\n",
       "      <th>2</th>\n",
       "      <td>1303.500000</td>\n",
       "      <td>1303.500000</td>\n",
       "      <td>1232.400024</td>\n",
       "      <td>1232.400024</td>\n",
       "      <td>365506</td>\n",
       "    </tr>\n",
       "    <tr>\n",
       "      <th>3</th>\n",
       "      <td>1232.400024</td>\n",
       "      <td>1256.099976</td>\n",
       "      <td>1232.400024</td>\n",
       "      <td>1232.400024</td>\n",
       "      <td>71730</td>\n",
       "    </tr>\n",
       "    <tr>\n",
       "      <th>4</th>\n",
       "      <td>1232.400024</td>\n",
       "      <td>1256.099976</td>\n",
       "      <td>1232.400024</td>\n",
       "      <td>1232.400024</td>\n",
       "      <td>313290</td>\n",
       "    </tr>\n",
       "  </tbody>\n",
       "</table>\n",
       "</div>"
      ],
      "text/plain": [
       "          Open         High          Low        Close  Volume\n",
       "0  1232.400024  1327.199951  1232.400024  1232.400024  426687\n",
       "1  1232.400024  1303.500000  1232.400024  1303.500000  159810\n",
       "2  1303.500000  1303.500000  1232.400024  1232.400024  365506\n",
       "3  1232.400024  1256.099976  1232.400024  1232.400024   71730\n",
       "4  1232.400024  1256.099976  1232.400024  1232.400024  313290"
      ]
     },
     "execution_count": 2,
     "metadata": {},
     "output_type": "execute_result"
    }
   ],
   "source": [
    "HargaSaham = pd.read_csv(\"BBNI 2003_2019 bersih.csv\")\n",
    "HargaSaham.head()"
   ]
  },
  {
   "cell_type": "markdown",
   "metadata": {},
   "source": [
    "## Feature Engineering"
   ]
  },
  {
   "cell_type": "code",
   "execution_count": 3,
   "metadata": {},
   "outputs": [],
   "source": [
    "intervals = range(6,16)\n",
    "def feature_engineering(HargaSaham, intervals):\n",
    "    #momentum\n",
    "    fe.get_rsi(HargaSaham, intervals)\n",
    "    fe.get_williamR(HargaSaham, intervals) #fillna\n",
    "    fe.get_cmo(HargaSaham, intervals)\n",
    "    fe.get_roc(HargaSaham, intervals)\n",
    "    fe.get_cmf(HargaSaham, intervals)\n",
    "    \n",
    "    #trend\n",
    "    fe.get_cci(HargaSaham, intervals)\n",
    "    fe.get_adx(HargaSaham, intervals) #take 29 data\n",
    "\n",
    "    fe.get_sma(HargaSaham, intervals)\n",
    "    fe.get_ema(HargaSaham, intervals)\n",
    "    fe.get_tema(HargaSaham, intervals) #take 3*max(interval) - 2 data"
   ]
  },
  {
   "cell_type": "code",
   "execution_count": 4,
   "metadata": {},
   "outputs": [
    {
     "name": "stderr",
     "output_type": "stream",
     "text": [
      "/home/rien/Projects/cnn_stock/feature_engineering.py:51: SettingWithCopyWarning: \n",
      "A value is trying to be set on a copy of a slice from a DataFrame\n",
      "\n",
      "See the caveats in the documentation: https://pandas.pydata.org/pandas-docs/stable/user_guide/indexing.html#returning-a-view-versus-a-copy\n",
      "  df[f'rsi_{period}'][1:] = res\n",
      "/home/rien/Projects/cnn_stock/feature_engineering.py:51: SettingWithCopyWarning: \n",
      "A value is trying to be set on a copy of a slice from a DataFrame\n",
      "\n",
      "See the caveats in the documentation: https://pandas.pydata.org/pandas-docs/stable/user_guide/indexing.html#returning-a-view-versus-a-copy\n",
      "  df[f'rsi_{period}'][1:] = res\n",
      "/home/rien/Projects/cnn_stock/feature_engineering.py:51: SettingWithCopyWarning: \n",
      "A value is trying to be set on a copy of a slice from a DataFrame\n",
      "\n",
      "See the caveats in the documentation: https://pandas.pydata.org/pandas-docs/stable/user_guide/indexing.html#returning-a-view-versus-a-copy\n",
      "  df[f'rsi_{period}'][1:] = res\n",
      "/home/rien/Projects/cnn_stock/feature_engineering.py:51: SettingWithCopyWarning: \n",
      "A value is trying to be set on a copy of a slice from a DataFrame\n",
      "\n",
      "See the caveats in the documentation: https://pandas.pydata.org/pandas-docs/stable/user_guide/indexing.html#returning-a-view-versus-a-copy\n",
      "  df[f'rsi_{period}'][1:] = res\n",
      "/home/rien/Projects/cnn_stock/feature_engineering.py:51: SettingWithCopyWarning: \n",
      "A value is trying to be set on a copy of a slice from a DataFrame\n",
      "\n",
      "See the caveats in the documentation: https://pandas.pydata.org/pandas-docs/stable/user_guide/indexing.html#returning-a-view-versus-a-copy\n",
      "  df[f'rsi_{period}'][1:] = res\n",
      "/home/rien/Projects/cnn_stock/feature_engineering.py:51: SettingWithCopyWarning: \n",
      "A value is trying to be set on a copy of a slice from a DataFrame\n",
      "\n",
      "See the caveats in the documentation: https://pandas.pydata.org/pandas-docs/stable/user_guide/indexing.html#returning-a-view-versus-a-copy\n",
      "  df[f'rsi_{period}'][1:] = res\n",
      "/home/rien/Projects/cnn_stock/feature_engineering.py:51: SettingWithCopyWarning: \n",
      "A value is trying to be set on a copy of a slice from a DataFrame\n",
      "\n",
      "See the caveats in the documentation: https://pandas.pydata.org/pandas-docs/stable/user_guide/indexing.html#returning-a-view-versus-a-copy\n",
      "  df[f'rsi_{period}'][1:] = res\n",
      "/home/rien/Projects/cnn_stock/feature_engineering.py:51: SettingWithCopyWarning: \n",
      "A value is trying to be set on a copy of a slice from a DataFrame\n",
      "\n",
      "See the caveats in the documentation: https://pandas.pydata.org/pandas-docs/stable/user_guide/indexing.html#returning-a-view-versus-a-copy\n",
      "  df[f'rsi_{period}'][1:] = res\n",
      "/home/rien/Projects/cnn_stock/feature_engineering.py:51: SettingWithCopyWarning: \n",
      "A value is trying to be set on a copy of a slice from a DataFrame\n",
      "\n",
      "See the caveats in the documentation: https://pandas.pydata.org/pandas-docs/stable/user_guide/indexing.html#returning-a-view-versus-a-copy\n",
      "  df[f'rsi_{period}'][1:] = res\n",
      "/home/rien/Projects/cnn_stock/feature_engineering.py:51: SettingWithCopyWarning: \n",
      "A value is trying to be set on a copy of a slice from a DataFrame\n",
      "\n",
      "See the caveats in the documentation: https://pandas.pydata.org/pandas-docs/stable/user_guide/indexing.html#returning-a-view-versus-a-copy\n",
      "  df[f'rsi_{period}'][1:] = res\n",
      "/home/rien/Projects/cnn_stock/feature_engineering.py:69: SettingWithCopyWarning: \n",
      "A value is trying to be set on a copy of a slice from a DataFrame\n",
      "\n",
      "See the caveats in the documentation: https://pandas.pydata.org/pandas-docs/stable/user_guide/indexing.html#returning-a-view-versus-a-copy\n",
      "  df[f'wR_{period}'][i] = a\n",
      "/home/rien/Projects/cnn_stock/feature_engineering.py:66: SettingWithCopyWarning: \n",
      "A value is trying to be set on a copy of a slice from a DataFrame\n",
      "\n",
      "See the caveats in the documentation: https://pandas.pydata.org/pandas-docs/stable/user_guide/indexing.html#returning-a-view-versus-a-copy\n",
      "  df[f'wR_{period}'][i] = 0\n"
     ]
    }
   ],
   "source": [
    "feature_engineering(HargaSaham, intervals)"
   ]
  },
  {
   "cell_type": "code",
   "execution_count": 5,
   "metadata": {},
   "outputs": [
    {
     "data": {
      "text/plain": [
       "0"
      ]
     },
     "execution_count": 5,
     "metadata": {},
     "output_type": "execute_result"
    }
   ],
   "source": [
    "#Cek apakah ada yang bernilai NaN\n",
    "HargaSaham[43:].isnull().sum().sum()"
   ]
  },
  {
   "cell_type": "code",
   "execution_count": 6,
   "metadata": {},
   "outputs": [
    {
     "data": {
      "text/plain": [
       "(3596, 105)"
      ]
     },
     "execution_count": 6,
     "metadata": {},
     "output_type": "execute_result"
    }
   ],
   "source": [
    "HargaSaham = HargaSaham[43:]\n",
    "HargaSaham.shape"
   ]
  },
  {
   "cell_type": "markdown",
   "metadata": {},
   "source": [
    "Data dinormalisasi menjadi [0,1]"
   ]
  },
  {
   "cell_type": "code",
   "execution_count": 7,
   "metadata": {},
   "outputs": [
    {
     "data": {
      "text/plain": [
       "(3596, 100)"
      ]
     },
     "execution_count": 7,
     "metadata": {},
     "output_type": "execute_result"
    }
   ],
   "source": [
    "HargaSaham = HargaSaham.drop(columns = ['Open', 'High', 'Low', 'Volume'])\n",
    "\n",
    "scaler = MinMaxScaler(feature_range=(0,1))\n",
    "HargaSaham = scaler.fit_transform(HargaSaham)\n",
    "HargaSaham.shape\n",
    "\n",
    "y_close = HargaSaham[:,0]\n",
    "HargaSaham = HargaSaham[:,1:]\n",
    "\n",
    "HargaSaham.shape\n"
   ]
  },
  {
   "cell_type": "markdown",
   "metadata": {},
   "source": [
    "Pemisahan data menjadi data test dan data train dan pengubahan data menjadi gambar"
   ]
  },
  {
   "cell_type": "code",
   "execution_count": 8,
   "metadata": {},
   "outputs": [
    {
     "data": {
      "text/plain": [
       "(596, 10, 10, 1)"
      ]
     },
     "execution_count": 8,
     "metadata": {},
     "output_type": "execute_result"
    }
   ],
   "source": [
    "ntrain = 3000   \n",
    "                \n",
    "train = HargaSaham[0:ntrain]\n",
    "test  = HargaSaham[ntrain:len(HargaSaham)]\n",
    "\n",
    "y_close_train = y_close[0:ntrain]\n",
    "y_close_test  = y_close[ntrain:len(y_close)]\n",
    "\n",
    "def reshape_as_image(x, img_width, img_height):\n",
    "    x_temp = np.zeros((len(x), img_height, img_width))\n",
    "    for i in range(x.shape[0]):\n",
    "        x_temp[i] = np.reshape(x[i], (img_height, img_width))\n",
    "\n",
    "    return x_temp\n",
    "\n",
    "train_img = reshape_as_image(train,10,10)\n",
    "\n",
    "train_img = np.stack((train_img,) * 1, axis=-1)\n",
    "train_img.shape\n",
    "\n",
    "test_img = reshape_as_image(test, 10,10)\n",
    "test_img = np.stack((test_img,) * 1, axis=-1)\n",
    "test_img.shape"
   ]
  },
  {
   "cell_type": "markdown",
   "metadata": {},
   "source": [
    "Hyperparameters CNN"
   ]
  },
  {
   "cell_type": "code",
   "execution_count": 9,
   "metadata": {},
   "outputs": [],
   "source": [
    "nfilters = 2\n",
    "kernel_size = (3,3)\n",
    "strides = (1,1)\n",
    "padding = 'valid'\n",
    "activation = 'relu'\n",
    "pool_size = (2,2)\n",
    "neuron = 7"
   ]
  },
  {
   "cell_type": "markdown",
   "metadata": {},
   "source": [
    "Pembangunan model CNN"
   ]
  },
  {
   "cell_type": "code",
   "execution_count": 10,
   "metadata": {},
   "outputs": [
    {
     "name": "stdout",
     "output_type": "stream",
     "text": [
      "Model: \"sequential_1\"\n",
      "_________________________________________________________________\n",
      "Layer (type)                 Output Shape              Param #   \n",
      "=================================================================\n",
      "conv2d_1 (Conv2D)            (None, 8, 8, 2)           20        \n",
      "_________________________________________________________________\n",
      "max_pooling2d_1 (MaxPooling2 (None, 4, 4, 2)           0         \n",
      "_________________________________________________________________\n",
      "flatten_1 (Flatten)          (None, 32)                0         \n",
      "_________________________________________________________________\n",
      "dense_1 (Dense)              (None, 7)                 231       \n",
      "_________________________________________________________________\n",
      "dense_2 (Dense)              (None, 1)                 8         \n",
      "=================================================================\n",
      "Total params: 259\n",
      "Trainable params: 259\n",
      "Non-trainable params: 0\n",
      "_________________________________________________________________\n"
     ]
    }
   ],
   "source": [
    "cnn = Sequential()\n",
    "cnn.add(Conv2D(nfilters, kernel_size = kernel_size, strides = strides,  padding = padding, \n",
    "               activation = activation, input_shape = (10,10,1)))\n",
    "cnn.add(MaxPooling2D(pool_size = pool_size))\n",
    "\n",
    "cnn.add(Flatten())\n",
    "cnn.add(Dense(neuron, activation=\"relu\"))\n",
    " \n",
    "cnn.add(Dense(1, activation=\"relu\"))\n",
    "cnn.summary()\n",
    "    \n",
    "cnn.compile(loss='mean_squared_error', optimizer='adam')\n",
    "\n",
    "monitor = EarlyStopping(monitor='val_loss', min_delta=1, patience=2, verbose=2, mode='auto') \n",
    "checkpointer = ModelCheckpoint(filepath=f\"best.hdf5\", verbose=0, save_best_only = True) \n"
   ]
  },
  {
   "cell_type": "markdown",
   "metadata": {},
   "source": [
    "Training model"
   ]
  },
  {
   "cell_type": "code",
   "execution_count": 11,
   "metadata": {},
   "outputs": [
    {
     "name": "stdout",
     "output_type": "stream",
     "text": [
      "Waktu yang diperlukan untuk menyelesaikan iterasi:  0:01:26.538295\n"
     ]
    }
   ],
   "source": [
    "tic = datetime.now()\n",
    "epochs = 300\n",
    "cnn.fit(train_img,y_close_train,validation_split=0.2,callbacks=[checkpointer],verbose=0,epochs = epochs)\n",
    "\n",
    "toc = datetime.now()\n",
    "\n",
    "print(\"Waktu yang diperlukan untuk menyelesaikan iterasi: \", toc-tic)"
   ]
  },
  {
   "cell_type": "markdown",
   "metadata": {},
   "source": [
    "Prediksi data test"
   ]
  },
  {
   "cell_type": "code",
   "execution_count": 12,
   "metadata": {},
   "outputs": [
    {
     "name": "stdout",
     "output_type": "stream",
     "text": [
      "Shape: (596, 1)\n",
      "[0.6563555]\n",
      "Final score (RMSE): 0.013037858055055423\n"
     ]
    }
   ],
   "source": [
    "cnn.load_weights(f'best.hdf5')\n",
    "\n",
    "pred = cnn.predict(test_img)\n",
    "print(\"Shape: {}\".format(pred.shape))\n",
    "print(pred[0])\n",
    "\n",
    "# Measure RMSE error.  RMSE is common for regression.\n",
    "score = np.sqrt(metrics.mean_squared_error(y_close_test, pred))\n",
    "print(\"Final score (RMSE): {}\".format(score))"
   ]
  },
  {
   "cell_type": "markdown",
   "metadata": {},
   "source": [
    "Plotting hasil prediksi"
   ]
  },
  {
   "cell_type": "code",
   "execution_count": 13,
   "metadata": {},
   "outputs": [
    {
     "data": {
      "image/png": "[encoded data removed]",
      "text/plain": [
       "<Figure size 432x288 with 1 Axes>"
      ]
     },
     "metadata": {
      "needs_background": "light"
     },
     "output_type": "display_data"
    }
   ],
   "source": [
    "plt.title(\"Prediksi Saham BBNI 2003 -2009\")\n",
    "plt.plot(y_close_test, label = 'actual')\n",
    "plt.plot(pred,   label = 'predicted')\n",
    "plt.savefig(\"./predicted.png\")\n",
    "plt.legend()\n",
    "plt.show()"
   ]
  },
  {
   "cell_type": "code",
   "execution_count": null,
   "metadata": {},
   "outputs": [],
   "source": []
  },
  {
   "cell_type": "code",
   "execution_count": null,
   "metadata": {},
   "outputs": [],
   "source": []
  },
  {
   "cell_type": "code",
   "execution_count": null,
   "metadata": {},
   "outputs": [],
   "source": []
  },
  {
   "cell_type": "code",
   "execution_count": null,
   "metadata": {},
   "outputs": [],
   "source": []
  }
 ],
 "metadata": {
  "kernelspec": {
   "display_name": "Python 3",
   "language": "python",
   "name": "python3"
  },
  "language_info": {
   "codemirror_mode": {
    "name": "ipython",
    "version": 3
   },
   "file_extension": ".py",
   "mimetype": "text/x-python",
   "name": "python",
   "nbconvert_exporter": "python",
   "pygments_lexer": "ipython3",
   "version": "3.7.7"
  }
 },
 "nbformat": 4,
 "nbformat_minor": 4
}
